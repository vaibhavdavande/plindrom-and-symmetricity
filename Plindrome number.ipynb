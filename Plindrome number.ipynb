{
 "cells": [
  {
   "cell_type": "code",
   "execution_count": 2,
   "metadata": {},
   "outputs": [
    {
     "name": "stdout",
     "output_type": "stream",
     "text": [
      "Enter your input1551\n",
      "1551 is palindrome\n",
      "1551 is not a symmetric\n"
     ]
    }
   ],
   "source": [
    "n = input('Enter your input')#Accept the input from the user\n",
    "t = int(len(n)/2)# find the center of the string\n",
    "if len(n)%2==0:#check the len is it even or odd if even\n",
    "    n1 = n[:t]#split the string upto half or center\n",
    "    n2 = n[t:]#split the string post half or center\n",
    "else:\n",
    "    n1 = n[:t]#split the string upto half or center\n",
    "    n2 = n[t+1:]#split the string post half or center\n",
    "if n1 == n2[::-1]:#compare the splitted strings for palindrom check \n",
    "    print(n, 'is palindrome')\n",
    "else:\n",
    "    print(n, 'is not a palindrome')\n",
    "#symmetricity is\n",
    "if n1 == n2:#compare the splitted strings for symmetricity check \n",
    "    print(n, 'is symmetric')\n",
    "else:\n",
    "    print(n, 'is not a symmetric')"
   ]
  }
 ],
 "metadata": {
  "kernelspec": {
   "display_name": "Python 3",
   "language": "python",
   "name": "python3"
  },
  "language_info": {
   "codemirror_mode": {
    "name": "ipython",
    "version": 3
   },
   "file_extension": ".py",
   "mimetype": "text/x-python",
   "name": "python",
   "nbconvert_exporter": "python",
   "pygments_lexer": "ipython3",
   "version": "3.7.4"
  }
 },
 "nbformat": 4,
 "nbformat_minor": 2
}
